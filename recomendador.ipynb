{
 "cells": [
  {
   "cell_type": "markdown",
   "metadata": {},
   "source": [
    "# Recomendador\n",
    "Dataset MovieLens -> https://grouplens.org/datasets/movielens/\n",
    "\n",
    "Más info -> http://files.grouplens.org/datasets/movielens/ml-20m-README.html\n",
    "\n",
    "Pearson Info -> https://www.analyticsvidhya.com/blog/2016/06/quick-guide-build-recommendation-engine-python/"
   ]
  },
  {
   "cell_type": "markdown",
   "metadata": {},
   "source": [
    "#### Importación librerias necesarias"
   ]
  },
  {
   "cell_type": "code",
   "execution_count": 1,
   "metadata": {},
   "outputs": [],
   "source": [
    "import pandas as pd\n",
    "from random import randint\n",
    "from random import sample\n",
    "import seaborn as sns\n",
    "import matplotlib.pyplot as plt\n",
    "import numpy as np\n",
    "from IPython.display import clear_output\n",
    "import time\n",
    "import warnings\n",
    "warnings.filterwarnings(\"ignore\")\n",
    "import numpy as np\n",
    "import codecs, json\n",
    "import pickle"
   ]
  },
  {
   "cell_type": "markdown",
   "metadata": {},
   "source": [
    "## Carga de datos"
   ]
  },
  {
   "cell_type": "code",
   "execution_count": 2,
   "metadata": {},
   "outputs": [],
   "source": [
    "small_data_path = \"MovieLens/small/\""
   ]
  },
  {
   "cell_type": "markdown",
   "metadata": {},
   "source": [
    "#### Peliculas\n",
    "De las peliculas la información que nos interesa son los generos diferentes a los pueden pertenecer"
   ]
  },
  {
   "cell_type": "code",
   "execution_count": 3,
   "metadata": {},
   "outputs": [
    {
     "name": "stdout",
     "output_type": "stream",
     "text": [
      "Contamos con un total de 27278 peliculas\n"
     ]
    }
   ],
   "source": [
    "movies = pd.read_csv(small_data_path + 'movies.csv')\n",
    "movies.columns = [\"movieid\", \"title\", \"genres\"]\n",
    "print(\"Contamos con un total de {} peliculas\".format(len(movies)))"
   ]
  },
  {
   "cell_type": "code",
   "execution_count": 4,
   "metadata": {
    "scrolled": true
   },
   "outputs": [
    {
     "data": {
      "text/html": [
       "<div>\n",
       "<style scoped>\n",
       "    .dataframe tbody tr th:only-of-type {\n",
       "        vertical-align: middle;\n",
       "    }\n",
       "\n",
       "    .dataframe tbody tr th {\n",
       "        vertical-align: top;\n",
       "    }\n",
       "\n",
       "    .dataframe thead th {\n",
       "        text-align: right;\n",
       "    }\n",
       "</style>\n",
       "<table border=\"1\" class=\"dataframe\">\n",
       "  <thead>\n",
       "    <tr style=\"text-align: right;\">\n",
       "      <th></th>\n",
       "      <th>movieid</th>\n",
       "      <th>title</th>\n",
       "      <th>genres</th>\n",
       "    </tr>\n",
       "  </thead>\n",
       "  <tbody>\n",
       "    <tr>\n",
       "      <th>0</th>\n",
       "      <td>1</td>\n",
       "      <td>Toy Story (1995)</td>\n",
       "      <td>Adventure|Animation|Children|Comedy|Fantasy</td>\n",
       "    </tr>\n",
       "    <tr>\n",
       "      <th>1</th>\n",
       "      <td>2</td>\n",
       "      <td>Jumanji (1995)</td>\n",
       "      <td>Adventure|Children|Fantasy</td>\n",
       "    </tr>\n",
       "    <tr>\n",
       "      <th>2</th>\n",
       "      <td>3</td>\n",
       "      <td>Grumpier Old Men (1995)</td>\n",
       "      <td>Comedy|Romance</td>\n",
       "    </tr>\n",
       "    <tr>\n",
       "      <th>3</th>\n",
       "      <td>4</td>\n",
       "      <td>Waiting to Exhale (1995)</td>\n",
       "      <td>Comedy|Drama|Romance</td>\n",
       "    </tr>\n",
       "    <tr>\n",
       "      <th>4</th>\n",
       "      <td>5</td>\n",
       "      <td>Father of the Bride Part II (1995)</td>\n",
       "      <td>Comedy</td>\n",
       "    </tr>\n",
       "  </tbody>\n",
       "</table>\n",
       "</div>"
      ],
      "text/plain": [
       "   movieid                               title  \\\n",
       "0        1                    Toy Story (1995)   \n",
       "1        2                      Jumanji (1995)   \n",
       "2        3             Grumpier Old Men (1995)   \n",
       "3        4            Waiting to Exhale (1995)   \n",
       "4        5  Father of the Bride Part II (1995)   \n",
       "\n",
       "                                        genres  \n",
       "0  Adventure|Animation|Children|Comedy|Fantasy  \n",
       "1                   Adventure|Children|Fantasy  \n",
       "2                               Comedy|Romance  \n",
       "3                         Comedy|Drama|Romance  \n",
       "4                                       Comedy  "
      ]
     },
     "execution_count": 4,
     "metadata": {},
     "output_type": "execute_result"
    }
   ],
   "source": [
    "movies.head()"
   ]
  },
  {
   "cell_type": "markdown",
   "metadata": {},
   "source": [
    "Los diferentes generos posibles ya estan prefijados y son los siguientes"
   ]
  },
  {
   "cell_type": "code",
   "execution_count": 5,
   "metadata": {
    "scrolled": true
   },
   "outputs": [],
   "source": [
    "dif_genres = {\"Action\":0,\"Adventure\":1,\"Animation\":2,\"Children\":3,\"Comedy\":4,\n",
    "           \"Crime\":5,\"Documentary\":6,\"Drama\":7,\"Fantasy\":8,\"Film-Noir\":9,\"Horror\":10,\n",
    "           \"Musical\":11,\"Mystery\":12,\"Romance\":13,\"Sci-Fi\":14,\"Thriller\":15,\"War\":16,\n",
    "           \"Western\":17,\"(no genres listed)\":18}"
   ]
  },
  {
   "cell_type": "code",
   "execution_count": 6,
   "metadata": {},
   "outputs": [],
   "source": [
    "movieid_title = {}\n",
    "for index, movie in movies.iterrows():\n",
    "    movieid_title[int(movie[\"movieid\"])] = movie[\"title\"]"
   ]
  },
  {
   "cell_type": "code",
   "execution_count": 7,
   "metadata": {},
   "outputs": [],
   "source": [
    "with open('movieid_title.txt', 'w') as outfile:\n",
    "    json.dump(movieid_title, outfile)"
   ]
  },
  {
   "cell_type": "markdown",
   "metadata": {},
   "source": [
    "#### Ratings\n",
    "Contamos con ratings que van desde el 0.5 hasta el 5, donde cada usuario ha puntuado una serie de peliculas que ha creido oportunas y que pertenecen a un genero o generos en especifico."
   ]
  },
  {
   "cell_type": "code",
   "execution_count": 8,
   "metadata": {},
   "outputs": [
    {
     "name": "stdout",
     "output_type": "stream",
     "text": [
      "Contamos con un total de 20000263 ratings, de 138493 personas diferentes\n"
     ]
    }
   ],
   "source": [
    "ratings = pd.read_csv(small_data_path + 'ratings.csv')\n",
    "ratings.columns = [\"userid\",\"movieid\", \"rating\", \"timestamp\"]\n",
    "print(\"Contamos con un total de {} ratings, de {} personas diferentes\".format(len(ratings),len(ratings[\"userid\"].unique())))"
   ]
  },
  {
   "cell_type": "code",
   "execution_count": 9,
   "metadata": {
    "scrolled": true
   },
   "outputs": [
    {
     "data": {
      "text/html": [
       "<div>\n",
       "<style scoped>\n",
       "    .dataframe tbody tr th:only-of-type {\n",
       "        vertical-align: middle;\n",
       "    }\n",
       "\n",
       "    .dataframe tbody tr th {\n",
       "        vertical-align: top;\n",
       "    }\n",
       "\n",
       "    .dataframe thead th {\n",
       "        text-align: right;\n",
       "    }\n",
       "</style>\n",
       "<table border=\"1\" class=\"dataframe\">\n",
       "  <thead>\n",
       "    <tr style=\"text-align: right;\">\n",
       "      <th></th>\n",
       "      <th>userid</th>\n",
       "      <th>movieid</th>\n",
       "      <th>rating</th>\n",
       "      <th>timestamp</th>\n",
       "    </tr>\n",
       "  </thead>\n",
       "  <tbody>\n",
       "    <tr>\n",
       "      <th>0</th>\n",
       "      <td>1</td>\n",
       "      <td>2</td>\n",
       "      <td>3.5</td>\n",
       "      <td>1112486027</td>\n",
       "    </tr>\n",
       "    <tr>\n",
       "      <th>1</th>\n",
       "      <td>1</td>\n",
       "      <td>29</td>\n",
       "      <td>3.5</td>\n",
       "      <td>1112484676</td>\n",
       "    </tr>\n",
       "    <tr>\n",
       "      <th>2</th>\n",
       "      <td>1</td>\n",
       "      <td>32</td>\n",
       "      <td>3.5</td>\n",
       "      <td>1112484819</td>\n",
       "    </tr>\n",
       "    <tr>\n",
       "      <th>3</th>\n",
       "      <td>1</td>\n",
       "      <td>47</td>\n",
       "      <td>3.5</td>\n",
       "      <td>1112484727</td>\n",
       "    </tr>\n",
       "    <tr>\n",
       "      <th>4</th>\n",
       "      <td>1</td>\n",
       "      <td>50</td>\n",
       "      <td>3.5</td>\n",
       "      <td>1112484580</td>\n",
       "    </tr>\n",
       "  </tbody>\n",
       "</table>\n",
       "</div>"
      ],
      "text/plain": [
       "   userid  movieid  rating   timestamp\n",
       "0       1        2     3.5  1112486027\n",
       "1       1       29     3.5  1112484676\n",
       "2       1       32     3.5  1112484819\n",
       "3       1       47     3.5  1112484727\n",
       "4       1       50     3.5  1112484580"
      ]
     },
     "execution_count": 9,
     "metadata": {},
     "output_type": "execute_result"
    }
   ],
   "source": [
    "ratings.head()"
   ]
  },
  {
   "cell_type": "markdown",
   "metadata": {},
   "source": [
    "Podemos observar como las puntuaciones malas no son muy abundantes en los ratings"
   ]
  },
  {
   "cell_type": "code",
   "execution_count": 10,
   "metadata": {
    "scrolled": false
   },
   "outputs": [
    {
     "data": {
      "image/png": "[encoded data removed]",
      "text/plain": [
       "<matplotlib.figure.Figure at 0x1f4d7f6ac88>"
      ]
     },
     "metadata": {},
     "output_type": "display_data"
    }
   ],
   "source": [
    "sns.countplot(ratings['rating'],label=\"Count\")\n",
    "plt.show()"
   ]
  },
  {
   "cell_type": "markdown",
   "metadata": {},
   "source": [
    "#### Links\n",
    "Quiero almacenar la referencia entre el movieid y su identificador en imdb para poder construir links a las peliculas"
   ]
  },
  {
   "cell_type": "code",
   "execution_count": 11,
   "metadata": {},
   "outputs": [],
   "source": [
    "links = pd.read_csv(small_data_path + 'links.csv', converters={'imdbId': lambda x: str(x)})\n",
    "links.columns = [\"movieid\",\"imdbid\", \"tmdbid\"]"
   ]
  },
  {
   "cell_type": "code",
   "execution_count": 12,
   "metadata": {},
   "outputs": [],
   "source": [
    "link_imdbid = {}\n",
    "for index, link in links.iterrows():\n",
    "    link_imdbid[int(link[\"movieid\"])] = link[\"imdbid\"]"
   ]
  },
  {
   "cell_type": "code",
   "execution_count": 13,
   "metadata": {},
   "outputs": [],
   "source": [
    "with open('link_imdbid.txt', 'w') as outfile:\n",
    "    json.dump(link_imdbid, outfile)"
   ]
  },
  {
   "cell_type": "markdown",
   "metadata": {},
   "source": [
    "## Matriz de Preferencias"
   ]
  },
  {
   "cell_type": "code",
   "execution_count": 14,
   "metadata": {},
   "outputs": [],
   "source": [
    "printed = -1\n",
    "def print_progress(item, num_items, progress_step=1):\n",
    "    global printed\n",
    "    actual_progress = (item/num_items)*100\n",
    "    if(actual_progress%progress_step==0 and printed!=actual_progress):\n",
    "        printed = actual_progress\n",
    "        print(\"Progress: {}%\".format(actual_progress))"
   ]
  },
  {
   "cell_type": "code",
   "execution_count": 43,
   "metadata": {},
   "outputs": [
    {
     "name": "stdout",
     "output_type": "stream",
     "text": [
      "Usuario 138492 de 138493.\n",
      "Wall time: 10h 20min 29s\n"
     ]
    }
   ],
   "source": [
    "%%time\n",
    "prefs_matrix = []\n",
    "user_cont = 0\n",
    "for user in ratings[\"userid\"].unique():\n",
    "    #print_progress(user_cont, len(ratings[\"userid\"].unique()), progress_step=1)\n",
    "    clear_output(wait=True)\n",
    "    print(\"Usuario {} de {}.\".format(user_cont, len(ratings[\"userid\"].unique())))\n",
    "    user_cont+=1\n",
    "    this_prefs = [0]*(len(dif_genres)+2) # Vamos a llevar la suma de peliculas puntuadas y el id del usuario\n",
    "    # Tomamos en primer lugar los ratings para el usuario que estamos extrayendo la info\n",
    "    user_ratings = ratings.loc[ratings['userid'] == user]\n",
    "    # Iteramos por cada rating de las peliculas del usuario para conocer los generos\n",
    "    num_ratings = 0\n",
    "    this_prefs[-1]=user\n",
    "    for index, rating in user_ratings.iterrows():\n",
    "        num_ratings+=1\n",
    "        current_movie_genres = movies.loc[movies['movieid'] == rating[\"movieid\"]][:].genres.values.item()\n",
    "        current_movie_rating = float(rating[\"rating\"].item())\n",
    "        \n",
    "        this_prefs[-2]=num_ratings\n",
    "        # Dado los generos y el rating que les ha dado (provinientes de la pelicula)\n",
    "        # Le asigno los valores correspondientes al perfil\n",
    "        for a_genre in current_movie_genres.split(\"|\"):\n",
    "            if a_genre in dif_genres: # dif_genres es un diccionario que nos mapea entre genero e indice\n",
    "                if current_movie_rating > 2.0:\n",
    "                    this_prefs[dif_genres[a_genre]] += current_movie_rating\n",
    "                else:\n",
    "                    # Hacemos inversamente proporcional el ratin para que menor ratin reste mas!\n",
    "                    this_prefs[dif_genres[a_genre]] -= 1.5/current_movie_rating\n",
    "            else: # Hay algunos generos no 'identificados' como IMAX\n",
    "                pass\n",
    "    prefs_matrix.append(this_prefs)"
   ]
  },
  {
   "cell_type": "code",
   "execution_count": 15,
   "metadata": {},
   "outputs": [
    {
     "name": "stdout",
     "output_type": "stream",
     "text": [
      "Para las puntuaciones negativas hemos decidido restar de forma inversamente proporcional:\n",
      "\tPara 0.5 restamos 3.0.\n",
      "\tPara 1.0 restamos 1.5.\n",
      "\tPara 1.5 restamos 1.0.\n",
      "\tPara 2.0 restamos 0.75.\n"
     ]
    }
   ],
   "source": [
    "print(\"Para las puntuaciones negativas hemos decidido restar de forma inversamente proporcional:\")\n",
    "for i in [0.5,1.0,1.5,2.0]:\n",
    "    print(\"\\tPara {} restamos {}.\".format(i, 1.5/i))"
   ]
  },
  {
   "cell_type": "code",
   "execution_count": 45,
   "metadata": {},
   "outputs": [],
   "source": [
    "np_prefs = np.array(prefs_matrix)"
   ]
  },
  {
   "cell_type": "code",
   "execution_count": 46,
   "metadata": {},
   "outputs": [
    {
     "data": {
      "text/plain": [
       "(138493, 21)"
      ]
     },
     "execution_count": 46,
     "metadata": {},
     "output_type": "execute_result"
    }
   ],
   "source": [
    "np_prefs.shape"
   ]
  },
  {
   "cell_type": "code",
   "execution_count": 47,
   "metadata": {},
   "outputs": [],
   "source": [
    "np.save(\"user_prefs.npy\", np_prefs)"
   ]
  },
  {
   "cell_type": "code",
   "execution_count": 16,
   "metadata": {},
   "outputs": [],
   "source": [
    "np_prefs = np.load(\"user_prefs.npy\")"
   ]
  },
  {
   "cell_type": "code",
   "execution_count": 17,
   "metadata": {},
   "outputs": [
    {
     "data": {
      "text/plain": [
       "(138493, 21)"
      ]
     },
     "execution_count": 17,
     "metadata": {},
     "output_type": "execute_result"
    }
   ],
   "source": [
    "np_prefs.shape"
   ]
  },
  {
   "cell_type": "markdown",
   "metadata": {},
   "source": [
    "### Normalización"
   ]
  },
  {
   "cell_type": "code",
   "execution_count": 18,
   "metadata": {},
   "outputs": [],
   "source": [
    "prefs_matrix = np_prefs[:,:-2]\n",
    "films_seen = np_prefs[:,-2:-1]\n",
    "users_vector = np_prefs[:,-1:]"
   ]
  },
  {
   "cell_type": "code",
   "execution_count": 19,
   "metadata": {},
   "outputs": [],
   "source": [
    "prefs_sum = np.sum(prefs_matrix, axis=1)"
   ]
  },
  {
   "cell_type": "code",
   "execution_count": 28,
   "metadata": {},
   "outputs": [],
   "source": [
    "prefs_normalized = prefs_matrix/prefs_sum.reshape(-1,1)"
   ]
  },
  {
   "cell_type": "code",
   "execution_count": 35,
   "metadata": {},
   "outputs": [],
   "source": [
    "prefs_normalized_dict = {}\n",
    "for index, curr_pref in enumerate(prefs_normalized):\n",
    "    prefs_normalized_dict[index] = curr_pref.tolist()"
   ]
  },
  {
   "cell_type": "code",
   "execution_count": 37,
   "metadata": {},
   "outputs": [],
   "source": [
    "with open('user_prefs.txt', 'w') as outfile:\n",
    "    json.dump(prefs_normalized_dict, outfile)"
   ]
  },
  {
   "cell_type": "code",
   "execution_count": 38,
   "metadata": {},
   "outputs": [
    {
     "data": {
      "text/plain": [
       "138493"
      ]
     },
     "execution_count": 38,
     "metadata": {},
     "output_type": "execute_result"
    }
   ],
   "source": [
    "len(prefs_normalized_dict)"
   ]
  },
  {
   "cell_type": "markdown",
   "metadata": {},
   "source": [
    "### Pearson Correlation"
   ]
  },
  {
   "cell_type": "code",
   "execution_count": 21,
   "metadata": {},
   "outputs": [],
   "source": [
    "from scipy.stats.stats import pearsonr\n",
    "# https://docs.scipy.org/doc/scipy-0.14.0/reference/generated/scipy.stats.pearsonr.html"
   ]
  },
  {
   "cell_type": "code",
   "execution_count": 22,
   "metadata": {},
   "outputs": [],
   "source": [
    "def calculate_pearson_neighbour(data_matrix, user, num_neighbours=1):\n",
    "    \"\"\"\n",
    "    Calcula los 'num_neighbours' de mayor coeficiente de correlacion\n",
    "    pearson entre una base de datos de usuario 'data_matrix' y las \n",
    "    preferencias de un usuario dado 'user' y devolvemos los id de los usuarios\n",
    "    con mayor coeficiente\n",
    "    \"\"\"\n",
    "    max_correlation = [-2]*num_neighbours # Recordar que los coeficientes van de -1 a +1\n",
    "    user_indx = [-1]*num_neighbours\n",
    "    for indx, curr_user in enumerate(data_matrix):\n",
    "        curr_pearson = pearsonr(curr_user, user)[0]\n",
    "        \n",
    "        if max_correlation[0] < curr_pearson:\n",
    "            max_correlation[0] = curr_pearson\n",
    "            user_indx[0] = indx\n",
    "            # Ordenamos los array en funcion de los valores de correlacion\n",
    "            # para que siempre quitemos la correlacion de menor valor\n",
    "            user_indx = np.array(user_indx)[np.argsort(max_correlation).tolist()].tolist()\n",
    "            max_correlation.sort()\n",
    "\n",
    "    #print(max_correlation)\n",
    "    #print(data_matrix[user_indx])\n",
    "    return user_indx"
   ]
  },
  {
   "cell_type": "code",
   "execution_count": 23,
   "metadata": {},
   "outputs": [],
   "source": [
    "def find_top_user_movies(userid, movie_umbral=4.0, num_movies=5):\n",
    "    \"\"\"\n",
    "    Dado el id de un usuario, devolvemos las primeras 'num_movies' ordenadas\n",
    "    por rating de mayor a menor siempre que superen cierto umbral 'umbral_movie'\n",
    "    \"\"\"\n",
    "    best_ratings = ratings.loc[(ratings['userid'] == userid) & (ratings[\"rating\"]>movie_umbral)]\n",
    "    best_ratings = best_ratings.sort_values(\"rating\", ascending=False)\n",
    "    result = []\n",
    "    for indx, row in best_ratings.sort_values(\"rating\", ascending=False).iterrows():\n",
    "        result.append(int(row[\"movieid\"]))\n",
    "        if len(result)==num_movies: break\n",
    "    return result"
   ]
  },
  {
   "cell_type": "code",
   "execution_count": 24,
   "metadata": {},
   "outputs": [],
   "source": [
    "def all_movies(userid):\n",
    "    \"\"\"\n",
    "    Dado un id de usuario devolvemos todas las peliculas vistas por \n",
    "    dicho usuario\n",
    "    \"\"\"\n",
    "    return find_top_user_movies(userid, movie_umbral=-1.0, num_movies=999999999)"
   ]
  },
  {
   "cell_type": "code",
   "execution_count": 25,
   "metadata": {},
   "outputs": [],
   "source": [
    "def movies_intersection(movies_seen, list_movies):\n",
    "    \"\"\"\n",
    "    Dada una lista de peliculas que he visto y una lista de peliculas,\n",
    "    devolvemos las peliculas de la lista de peliculas que no estan entre \n",
    "    las que hemos visto -> https://stackoverflow.com/a/7961390\n",
    "    \"\"\"\n",
    "    return list(set(list_movies) - set(movies_seen))"
   ]
  },
  {
   "cell_type": "code",
   "execution_count": 26,
   "metadata": {},
   "outputs": [],
   "source": [
    "def recommend_movies(matrix_users, user_prefs, user_movies, num_movies, num_neighbours=1):\n",
    "    \"\"\"\n",
    "    Dada las preferencias de un usuario con respecto a los diferentes\n",
    "    generos y una matriz con los perfiles de los diferentes usuarios\n",
    "    con sus preferencias, tomamos los N primeros usuarios con respecto\n",
    "    al coeficiente de Pearson y de ellos sacamos sus peliculas mejor puntuadas\n",
    "    para finalmente devolver las que nuestro usuario no ha visto\n",
    "    \"\"\"\n",
    "    neighbours = calculate_pearson_neighbour(matrix_users, user_prefs, num_neighbours=num_neighbours)\n",
    "    possible_movies = []\n",
    "    for neighbour in neighbours:\n",
    "        possible_movies.extend(find_top_user_movies(neighbour,num_movies=999))\n",
    "    return movies_intersection(user_movies, possible_movies)[0:num_movies]"
   ]
  },
  {
   "cell_type": "markdown",
   "metadata": {},
   "source": [
    "Con esto ya somos capaces de realizar pruebas para recomendar peliculas a usuarios"
   ]
  },
  {
   "cell_type": "code",
   "execution_count": 27,
   "metadata": {},
   "outputs": [
    {
     "data": {
      "text/plain": [
       "[1, 69122, 33794, 1033, 2058, 91658, 2571, 11, 527, 17]"
      ]
     },
     "execution_count": 27,
     "metadata": {},
     "output_type": "execute_result"
    }
   ],
   "source": [
    "recommend_movies(prefs_normalized[2:,:], prefs_normalized[1], all_movies(1), num_movies=10, num_neighbours=10)"
   ]
  },
  {
   "cell_type": "markdown",
   "metadata": {},
   "source": [
    "### Consideraciones prácticas para implementación web"
   ]
  },
  {
   "cell_type": "markdown",
   "metadata": {},
   "source": [
    "Exportamos la matriz de datos normalizados como json para poder leerlo con Javascript en la web"
   ]
  },
  {
   "cell_type": "code",
   "execution_count": 82,
   "metadata": {},
   "outputs": [],
   "source": [
    "b = prefs_normalized.tolist() # nested lists with same data, indices\n",
    "file_path = \"user_prefs.json\" ## your path variable\n",
    "json.dump(b, codecs.open(file_path, 'w', encoding='utf-8'), separators=(',', ':'), sort_keys=True, indent=4) ### this saves the array in .json format"
   ]
  },
  {
   "cell_type": "markdown",
   "metadata": {},
   "source": [
    "Para tratar facilmente la búsqueda de peliculas por usuario vamos a crear un array con usuarios y un alista con su pelicula visualziada (movieid) y el rating que le ha puesto"
   ]
  },
  {
   "cell_type": "code",
   "execution_count": 28,
   "metadata": {},
   "outputs": [],
   "source": [
    "def intercala_listas(a, b):\n",
    "    c = list(zip(a, b))\n",
    "    return [elt for sublist in c for elt in sublist]"
   ]
  },
  {
   "cell_type": "code",
   "execution_count": 30,
   "metadata": {},
   "outputs": [
    {
     "name": "stdout",
     "output_type": "stream",
     "text": [
      "Usuario 138492 de 138493.\n",
      "CPU times: user 3h 56min 46s, sys: 44min 6s, total: 4h 40min 52s\n",
      "Wall time: 4h 39min 55s\n"
     ]
    }
   ],
   "source": [
    "%%time\n",
    "user_cont=0\n",
    "movie_umbral = 4.0\n",
    "best_ratings = {}\n",
    "\n",
    "for user in ratings[\"userid\"].unique():\n",
    "    current_ratings = ratings.loc[ratings['userid'] == user]\n",
    "    movie_ids = current_ratings[\"movieid\"].tolist()\n",
    "    movie_ratings = current_ratings[\"rating\"].tolist()\n",
    "    best_ratings[user] = intercala_listas(movie_ids,movie_ratings)\n",
    "    \n",
    "    clear_output(wait=True)\n",
    "    print(\"Usuario {} de {}.\".format(user_cont, len(ratings[\"userid\"].unique())))\n",
    "    user_cont+=1"
   ]
  },
  {
   "cell_type": "code",
   "execution_count": 31,
   "metadata": {},
   "outputs": [],
   "source": [
    "def save_obj(obj, name):\n",
    "    with open(name + '.pkl', 'wb') as f:\n",
    "        pickle.dump(obj, f, pickle.HIGHEST_PROTOCOL)"
   ]
  },
  {
   "cell_type": "code",
   "execution_count": 22,
   "metadata": {},
   "outputs": [],
   "source": [
    "def load_obj(name):\n",
    "    with open(name + '.pkl', 'rb') as f:\n",
    "        return pickle.load(f)"
   ]
  },
  {
   "cell_type": "code",
   "execution_count": 33,
   "metadata": {},
   "outputs": [],
   "source": [
    "save_obj(best_ratings, \"ratings_users\")"
   ]
  },
  {
   "cell_type": "code",
   "execution_count": 27,
   "metadata": {},
   "outputs": [],
   "source": [
    "best_ratings = load_obj(\"ratings_users\")"
   ]
  },
  {
   "cell_type": "code",
   "execution_count": 25,
   "metadata": {},
   "outputs": [],
   "source": [
    "best_ratings = {str(k):v for k,v in best_ratings.items()}"
   ]
  },
  {
   "cell_type": "code",
   "execution_count": 26,
   "metadata": {},
   "outputs": [],
   "source": [
    "with open('ratings_users.txt', 'w') as outfile:\n",
    "    json.dump(best_ratings, outfile)"
   ]
  }
 ],
 "metadata": {
  "kernelspec": {
   "display_name": "Python 3",
   "language": "python",
   "name": "python3"
  },
  "language_info": {
   "codemirror_mode": {
    "name": "ipython",
    "version": 3
   },
   "file_extension": ".py",
   "mimetype": "text/x-python",
   "name": "python",
   "nbconvert_exporter": "python",
   "pygments_lexer": "ipython3",
   "version": "3.6.4"
  }
 },
 "nbformat": 4,
 "nbformat_minor": 2
}
